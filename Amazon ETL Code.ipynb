{
 "cells": [
  {
   "cell_type": "code",
   "execution_count": 1,
   "id": "6da7af15",
   "metadata": {},
   "outputs": [
    {
     "name": "stdout",
     "output_type": "stream",
     "text": [
      "Requirement already satisfied: pandas in /opt/anaconda3/lib/python3.11/site-packages (2.1.4)\n",
      "Requirement already satisfied: sqlalchemy in /opt/anaconda3/lib/python3.11/site-packages (2.0.25)\n",
      "Requirement already satisfied: numpy<2,>=1.23.2 in /opt/anaconda3/lib/python3.11/site-packages (from pandas) (1.26.4)\n",
      "Requirement already satisfied: python-dateutil>=2.8.2 in /opt/anaconda3/lib/python3.11/site-packages (from pandas) (2.8.2)\n",
      "Requirement already satisfied: pytz>=2020.1 in /opt/anaconda3/lib/python3.11/site-packages (from pandas) (2023.3.post1)\n",
      "Requirement already satisfied: tzdata>=2022.1 in /opt/anaconda3/lib/python3.11/site-packages (from pandas) (2023.3)\n",
      "Requirement already satisfied: typing-extensions>=4.6.0 in /opt/anaconda3/lib/python3.11/site-packages (from sqlalchemy) (4.9.0)\n",
      "Requirement already satisfied: six>=1.5 in /opt/anaconda3/lib/python3.11/site-packages (from python-dateutil>=2.8.2->pandas) (1.16.0)\n",
      "Note: you may need to restart the kernel to use updated packages.\n"
     ]
    }
   ],
   "source": [
    "pip install pandas sqlalchemy"
   ]
  },
  {
   "cell_type": "code",
   "execution_count": 2,
   "id": "3546b1d9",
   "metadata": {},
   "outputs": [],
   "source": [
    "import pandas as pd\n",
    "from sqlalchemy import create_engine"
   ]
  },
  {
   "cell_type": "markdown",
   "id": "05ad88f2",
   "metadata": {},
   "source": [
    "## Extract Phase"
   ]
  },
  {
   "cell_type": "markdown",
   "id": "17c2c2ac",
   "metadata": {},
   "source": [
    "The dataset can be found here: https://www.kaggle.com/datasets/karkavelrajaj/amazon-sales-dataset"
   ]
  },
  {
   "cell_type": "code",
   "execution_count": 3,
   "id": "f944c51b",
   "metadata": {},
   "outputs": [],
   "source": [
    "# ------------------- Extract Phase -------------------\n",
    "# Load the dataset (Extract)\n",
    "amazon_data = pd.read_csv('amazon.csv')"
   ]
  },
  {
   "cell_type": "markdown",
   "id": "8b5e1b9c",
   "metadata": {},
   "source": [
    "## Transform Phase"
   ]
  },
  {
   "cell_type": "code",
   "execution_count": null,
   "id": "c37870a2",
   "metadata": {},
   "outputs": [],
   "source": [
    "# ------------------- Transform Phase -------------------\n",
    "# Cleaning the dataset\n",
    "\n",
    "# Remove currency symbols and commas from 'discounted_price' and 'actual_price'\n",
    "amazon_data['discounted_price'] = amazon_data['discounted_price'].replace({'₹': '', ',': ''}, regex=True).astype(float)\n",
    "amazon_data['actual_price'] = amazon_data['actual_price'].replace({'₹': '', ',': ''}, regex=True).astype(float)\n",
    "\n",
    "# Convert 'rating_count' to integer after handling non-numeric values\n",
    "amazon_data['rating_count'] = amazon_data['rating_count'].replace({',': ''}, regex=True)\n",
    "amazon_data['rating_count'] = pd.to_numeric(amazon_data['rating_count'], errors='coerce').fillna(0).astype(int)\n",
    "\n",
    "# Convert 'rating' to float, handling non-numeric values\n",
    "amazon_data['rating'] = pd.to_numeric(amazon_data['rating'], errors='coerce').fillna(0)\n",
    "\n",
    "# Drop any rows with missing values \n",
    "amazon_data_cleaned = amazon_data.dropna()"
   ]
  },
  {
   "cell_type": "markdown",
   "id": "4385ef4f",
   "metadata": {},
   "source": [
    "## Load Phase "
   ]
  },
  {
   "cell_type": "code",
   "execution_count": 4,
   "id": "13dfb5d9",
   "metadata": {},
   "outputs": [
    {
     "name": "stdout",
     "output_type": "stream",
     "text": [
      "   product_id                                       product_name  \\\n",
      "0  B07JW9H4J1  Wayona Nylon Braided USB to Lightning Fast Cha...   \n",
      "1  B098NS6PVG  Ambrane Unbreakable 60W / 3A Fast Charging 1.5...   \n",
      "2  B096MSW6CT  Sounce Fast Phone Charging Cable & Data Sync U...   \n",
      "3  B08HDJ86NZ  boAt Deuce USB 300 2 in 1 Type-C & Micro USB S...   \n",
      "4  B08CF3B7N1  Portronics Konnect L 1.2M Fast Charging 3A 8 P...   \n",
      "\n",
      "                                            category  discounted_price  \\\n",
      "0  Computers&Accessories|Accessories&Peripherals|...             399.0   \n",
      "1  Computers&Accessories|Accessories&Peripherals|...             199.0   \n",
      "2  Computers&Accessories|Accessories&Peripherals|...             199.0   \n",
      "3  Computers&Accessories|Accessories&Peripherals|...             329.0   \n",
      "4  Computers&Accessories|Accessories&Peripherals|...             154.0   \n",
      "\n",
      "   actual_price discount_percentage  rating  rating_count  \\\n",
      "0        1099.0                 64%     4.2         24269   \n",
      "1         349.0                 43%     4.0         43994   \n",
      "2        1899.0                 90%     3.9          7928   \n",
      "3         699.0                 53%     4.2         94363   \n",
      "4         399.0                 61%     4.2         16905   \n",
      "\n",
      "                                       about_product  \\\n",
      "0  High Compatibility : Compatible With iPhone 12...   \n",
      "1  Compatible with all Type C enabled devices, be...   \n",
      "2  【 Fast Charger& Data Sync】-With built-in safet...   \n",
      "3  The boAt Deuce USB 300 2 in 1 cable is compati...   \n",
      "4  [CHARGE & SYNC FUNCTION]- This cable comes wit...   \n",
      "\n",
      "                                             user_id  \\\n",
      "0  AG3D6O4STAQKAY2UVGEUV46KN35Q,AHMY5CWJMMK5BJRBB...   \n",
      "1  AECPFYFQVRUWC3KGNLJIOREFP5LQ,AGYYVPDD7YG7FYNBX...   \n",
      "2  AGU3BBQ2V2DDAMOAKGFAWDDQ6QHA,AESFLDV2PT363T2AQ...   \n",
      "3  AEWAZDZZJLQUYVOVGBEUKSLXHQ5A,AG5HTSFRRE6NL3M5S...   \n",
      "4  AE3Q6KSUK5P75D5HFYHCRAOLODSA,AFUGIFH5ZAFXRDSZH...   \n",
      "\n",
      "                                           user_name  \\\n",
      "0  Manav,Adarsh gupta,Sundeep,S.Sayeed Ahmed,jasp...   \n",
      "1  ArdKn,Nirbhay kumar,Sagar Viswanathan,Asp,Plac...   \n",
      "2  Kunal,Himanshu,viswanath,sai niharka,saqib mal...   \n",
      "3  Omkar dhale,JD,HEMALATHA,Ajwadh a.,amar singh ...   \n",
      "4  rahuls6099,Swasat Borah,Ajay Wadke,Pranali,RVK...   \n",
      "\n",
      "                                           review_id  \\\n",
      "0  R3HXWT0LRP0NMF,R2AJM3LFTLZHFO,R6AQJGUP6P86,R1K...   \n",
      "1  RGIQEG07R9HS2,R1SMWZQ86XIN8U,R2J3Y1WL29GWDE,RY...   \n",
      "2  R3J3EQQ9TZI5ZJ,R3E7WBGK7ID0KV,RWU79XKQ6I1QF,R2...   \n",
      "3  R3EEUZKKK9J36I,R3HJVYCLYOY554,REDECAZ7AMPQC,R1...   \n",
      "4  R1BP4L2HH9TFUP,R16PVJEXKV6QZS,R2UPDB81N66T4P,R...   \n",
      "\n",
      "                                        review_title  \\\n",
      "0  Satisfied,Charging is really fast,Value for mo...   \n",
      "1  A Good Braided Cable for Your Type C Device,Go...   \n",
      "2  Good speed for earlier versions,Good Product,W...   \n",
      "3  Good product,Good one,Nice,Really nice product...   \n",
      "4  As good as original,Decent,Good one for second...   \n",
      "\n",
      "                                      review_content  \\\n",
      "0  Looks durable Charging is fine tooNo complains...   \n",
      "1  I ordered this cable to connect my phone to An...   \n",
      "2  Not quite durable and sturdy,https://m.media-a...   \n",
      "3  Good product,long wire,Charges good,Nice,I bou...   \n",
      "4  Bought this instead of original apple, does th...   \n",
      "\n",
      "                                            img_link  \\\n",
      "0  https://m.media-amazon.com/images/W/WEBP_40237...   \n",
      "1  https://m.media-amazon.com/images/W/WEBP_40237...   \n",
      "2  https://m.media-amazon.com/images/W/WEBP_40237...   \n",
      "3  https://m.media-amazon.com/images/I/41V5FtEWPk...   \n",
      "4  https://m.media-amazon.com/images/W/WEBP_40237...   \n",
      "\n",
      "                                        product_link  \n",
      "0  https://www.amazon.in/Wayona-Braided-WN3LG1-Sy...  \n",
      "1  https://www.amazon.in/Ambrane-Unbreakable-Char...  \n",
      "2  https://www.amazon.in/Sounce-iPhone-Charging-C...  \n",
      "3  https://www.amazon.in/Deuce-300-Resistant-Tang...  \n",
      "4  https://www.amazon.in/Portronics-Konnect-POR-1...  \n"
     ]
    }
   ],
   "source": [
    "# ------------------- Load Phase -------------------\n",
    "# Create a SQLite engine (local database file named 'amazon_etl.db')\n",
    "engine = create_engine('sqlite:///amazon_etl.db')\n",
    "\n",
    "# Load the cleaned data into a SQLite table\n",
    "amazon_data_cleaned.to_sql('amazon_products', con=engine, if_exists='replace', index=False)\n",
    "\n",
    "# Query the data to verify the load\n",
    "query_result = pd.read_sql('SELECT * FROM amazon_products LIMIT 5', con=engine)\n",
    "print(query_result)"
   ]
  },
  {
   "cell_type": "markdown",
   "id": "79d08baa",
   "metadata": {},
   "source": []
  }
 ],
 "metadata": {
  "kernelspec": {
   "display_name": "Python 3 (ipykernel)",
   "language": "python",
   "name": "python3"
  },
  "language_info": {
   "codemirror_mode": {
    "name": "ipython",
    "version": 3
   },
   "file_extension": ".py",
   "mimetype": "text/x-python",
   "name": "python",
   "nbconvert_exporter": "python",
   "pygments_lexer": "ipython3",
   "version": "3.11.7"
  }
 },
 "nbformat": 4,
 "nbformat_minor": 5
}
